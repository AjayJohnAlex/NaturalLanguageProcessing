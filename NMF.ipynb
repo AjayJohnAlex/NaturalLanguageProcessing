{
  "nbformat": 4,
  "nbformat_minor": 0,
  "metadata": {
    "colab": {
      "name": "NMF.ipynb",
      "provenance": []
    },
    "kernelspec": {
      "name": "python3",
      "display_name": "Python 3"
    },
    "accelerator": "GPU"
  },
  "cells": [
    {
      "cell_type": "markdown",
      "metadata": {
        "id": "9tX63A3mKPrB",
        "colab_type": "text"
      },
      "source": [
        "# Purpose of this notebook:\n",
        "## Understanding NMF (Non Negative Matrix Factorisation)\n",
        "\n",
        "***Non-negative Matrix Factorization is a Linear-algeabreic model, that factors high-dimensional vectors into a low-dimensionality representation.***\n",
        "\n",
        "\n",
        "***Similar to Principal component analysis (PCA), NMF takes advantage of the fact that the vectors are non-negative.***\n",
        "\n",
        "\n",
        "***By factoring them into the lower-dimensional form, NMF forces the coefficients to also be non-negative.\n",
        "Given the original matrix A, we can obtain two matrices W and H, such that A= WH.***"
      ]
    },
    {
      "cell_type": "code",
      "metadata": {
        "id": "06lldrSU-aWg",
        "colab_type": "code",
        "colab": {}
      },
      "source": [
        "import pandas as pd \n",
        "import numpy as np\n",
        "import matplotlib.pyplot as plt\n",
        "%matplotlib inline"
      ],
      "execution_count": 0,
      "outputs": []
    },
    {
      "cell_type": "code",
      "metadata": {
        "id": "ok8P_bKB-tjv",
        "colab_type": "code",
        "colab": {
          "base_uri": "https://localhost:8080/",
          "height": 204
        },
        "outputId": "aa3bd8b3-d24a-48c3-9ee4-182dbbe8d211"
      },
      "source": [
        "df = pd.read_csv(\"/content/npr.csv\")\n",
        "df.head()"
      ],
      "execution_count": 2,
      "outputs": [
        {
          "output_type": "execute_result",
          "data": {
            "text/html": [
              "<div>\n",
              "<style scoped>\n",
              "    .dataframe tbody tr th:only-of-type {\n",
              "        vertical-align: middle;\n",
              "    }\n",
              "\n",
              "    .dataframe tbody tr th {\n",
              "        vertical-align: top;\n",
              "    }\n",
              "\n",
              "    .dataframe thead th {\n",
              "        text-align: right;\n",
              "    }\n",
              "</style>\n",
              "<table border=\"1\" class=\"dataframe\">\n",
              "  <thead>\n",
              "    <tr style=\"text-align: right;\">\n",
              "      <th></th>\n",
              "      <th>Article</th>\n",
              "    </tr>\n",
              "  </thead>\n",
              "  <tbody>\n",
              "    <tr>\n",
              "      <th>0</th>\n",
              "      <td>In the Washington of 2016, even when the polic...</td>\n",
              "    </tr>\n",
              "    <tr>\n",
              "      <th>1</th>\n",
              "      <td>Donald Trump has used Twitter  —   his prefe...</td>\n",
              "    </tr>\n",
              "    <tr>\n",
              "      <th>2</th>\n",
              "      <td>Donald Trump is unabashedly praising Russian...</td>\n",
              "    </tr>\n",
              "    <tr>\n",
              "      <th>3</th>\n",
              "      <td>Updated at 2:50 p. m. ET, Russian President Vl...</td>\n",
              "    </tr>\n",
              "    <tr>\n",
              "      <th>4</th>\n",
              "      <td>From photography, illustration and video, to d...</td>\n",
              "    </tr>\n",
              "  </tbody>\n",
              "</table>\n",
              "</div>"
            ],
            "text/plain": [
              "                                             Article\n",
              "0  In the Washington of 2016, even when the polic...\n",
              "1    Donald Trump has used Twitter  —   his prefe...\n",
              "2    Donald Trump is unabashedly praising Russian...\n",
              "3  Updated at 2:50 p. m. ET, Russian President Vl...\n",
              "4  From photography, illustration and video, to d..."
            ]
          },
          "metadata": {
            "tags": []
          },
          "execution_count": 2
        }
      ]
    },
    {
      "cell_type": "code",
      "metadata": {
        "id": "vYQFIZNp_ONq",
        "colab_type": "code",
        "colab": {
          "base_uri": "https://localhost:8080/",
          "height": 51
        },
        "outputId": "8cdc9653-30d8-4f62-cabb-7a7e066d4c07"
      },
      "source": [
        "df.isnull().sum()"
      ],
      "execution_count": 3,
      "outputs": [
        {
          "output_type": "execute_result",
          "data": {
            "text/plain": [
              "Article    0\n",
              "dtype: int64"
            ]
          },
          "metadata": {
            "tags": []
          },
          "execution_count": 3
        }
      ]
    },
    {
      "cell_type": "code",
      "metadata": {
        "id": "cduWY7lE_SFm",
        "colab_type": "code",
        "colab": {
          "base_uri": "https://localhost:8080/",
          "height": 34
        },
        "outputId": "ce3a8ba2-c4d9-4730-9e68-5b8cf53c127d"
      },
      "source": [
        "blanks = []\n",
        "for review in df.Article :\n",
        "  if type(review) == str:\n",
        "    if review.isalpha():\n",
        "      blanks.append(review)\n",
        "\n",
        "blanks"
      ],
      "execution_count": 5,
      "outputs": [
        {
          "output_type": "execute_result",
          "data": {
            "text/plain": [
              "[]"
            ]
          },
          "metadata": {
            "tags": []
          },
          "execution_count": 5
        }
      ]
    },
    {
      "cell_type": "code",
      "metadata": {
        "id": "6tKfTUj6_fQL",
        "colab_type": "code",
        "colab": {}
      },
      "source": [
        "from sklearn.feature_extraction.text import TfidfVectorizer"
      ],
      "execution_count": 0,
      "outputs": []
    },
    {
      "cell_type": "code",
      "metadata": {
        "id": "cxWVEOiYD9s-",
        "colab_type": "code",
        "colab": {}
      },
      "source": [
        "tfidf = TfidfVectorizer(stop_words='english',max_df=0.9,min_df=2)"
      ],
      "execution_count": 0,
      "outputs": []
    },
    {
      "cell_type": "code",
      "metadata": {
        "id": "_mPhQYD-EEfR",
        "colab_type": "code",
        "colab": {
          "base_uri": "https://localhost:8080/",
          "height": 51
        },
        "outputId": "79ce536d-be77-4ee5-ae88-a01c82fda69d"
      },
      "source": [
        "dtm = tfidf.fit_transform(df['Article'])\n",
        "dtm"
      ],
      "execution_count": 8,
      "outputs": [
        {
          "output_type": "execute_result",
          "data": {
            "text/plain": [
              "<11992x54777 sparse matrix of type '<class 'numpy.float64'>'\n",
              "\twith 3033388 stored elements in Compressed Sparse Row format>"
            ]
          },
          "metadata": {
            "tags": []
          },
          "execution_count": 8
        }
      ]
    },
    {
      "cell_type": "code",
      "metadata": {
        "id": "M7VRN5iVHj7D",
        "colab_type": "code",
        "colab": {
          "base_uri": "https://localhost:8080/",
          "height": 34
        },
        "outputId": "7b3848e5-b605-4cd0-d38b-0c845b38d48a"
      },
      "source": [
        "tfidf.get_feature_names()[53211]"
      ],
      "execution_count": 30,
      "outputs": [
        {
          "output_type": "execute_result",
          "data": {
            "text/plain": [
              "'way'"
            ]
          },
          "metadata": {
            "tags": []
          },
          "execution_count": 30
        }
      ]
    },
    {
      "cell_type": "code",
      "metadata": {
        "colab_type": "code",
        "outputId": "248d4553-73c5-4543-b69e-8f8ba2338461",
        "id": "H8PVdb5wGc9W",
        "colab": {
          "base_uri": "https://localhost:8080/",
          "height": 68
        }
      },
      "source": [
        "nmf = NMF(n_components=5,random_state=101)\n",
        "nmf"
      ],
      "execution_count": 0,
      "outputs": [
        {
          "output_type": "execute_result",
          "data": {
            "text/plain": [
              "NMF(alpha=0.0, beta_loss='frobenius', init=None, l1_ratio=0.0, max_iter=200,\n",
              "    n_components=5, random_state=101, shuffle=False, solver='cd', tol=0.0001,\n",
              "    verbose=0)"
            ]
          },
          "metadata": {
            "tags": []
          },
          "execution_count": 11
        }
      ]
    },
    {
      "cell_type": "code",
      "metadata": {
        "id": "YaE_qUEcEgxR",
        "colab_type": "code",
        "colab": {
          "base_uri": "https://localhost:8080/",
          "height": 68
        },
        "outputId": "070287b1-84ff-471a-b47e-e0740386b888"
      },
      "source": [
        "nfm_fit  = nmf.fit(dtm)\n",
        "nfm_fit"
      ],
      "execution_count": 14,
      "outputs": [
        {
          "output_type": "execute_result",
          "data": {
            "text/plain": [
              "NMF(alpha=0.0, beta_loss='frobenius', init=None, l1_ratio=0.0, max_iter=200,\n",
              "    n_components=5, random_state=101, shuffle=False, solver='cd', tol=0.0001,\n",
              "    verbose=0)"
            ]
          },
          "metadata": {
            "tags": []
          },
          "execution_count": 14
        }
      ]
    },
    {
      "cell_type": "code",
      "metadata": {
        "id": "DV_5fPZeEj0R",
        "colab_type": "code",
        "colab": {
          "base_uri": "https://localhost:8080/",
          "height": 34
        },
        "outputId": "b5233a7c-e82f-4f41-bb7f-aee3c9f2cb1d"
      },
      "source": [
        "nfm_fit.components_.shape"
      ],
      "execution_count": 21,
      "outputs": [
        {
          "output_type": "execute_result",
          "data": {
            "text/plain": [
              "(5, 54777)"
            ]
          },
          "metadata": {
            "tags": []
          },
          "execution_count": 21
        }
      ]
    },
    {
      "cell_type": "code",
      "metadata": {
        "id": "mbwBjPIuHJyc",
        "colab_type": "code",
        "colab": {
          "base_uri": "https://localhost:8080/",
          "height": 51
        },
        "outputId": "5fb62b6d-ea9b-4b7c-a9d8-4ac7d78e7b1e"
      },
      "source": [
        "nfm_fit.components_[0].argsort()[-15:]"
      ],
      "execution_count": 25,
      "outputs": [
        {
          "output_type": "execute_result",
          "data": {
            "text/plain": [
              "array([47210, 53211, 28606, 33390, 43172, 15008, 32729, 49459, 27439,\n",
              "       39848, 49183, 26752, 36283, 28659, 42993])"
            ]
          },
          "metadata": {
            "tags": []
          },
          "execution_count": 25
        }
      ]
    },
    {
      "cell_type": "code",
      "metadata": {
        "id": "BINtDVoOFDKo",
        "colab_type": "code",
        "colab": {
          "base_uri": "https://localhost:8080/",
          "height": 547
        },
        "outputId": "d289b849-8be4-4809-8d57-b7f301af443f"
      },
      "source": [
        "for index, article in enumerate(nfm_fit.components_):\n",
        "\n",
        "  print(f\"The topic is {index}\")\n",
        "  print([tfidf.get_feature_names()[item] for item in article.argsort()[-15:]])\n",
        "  print(\"\\n\")\n",
        "  print(\"\\n\")"
      ],
      "execution_count": 31,
      "outputs": [
        {
          "output_type": "stream",
          "text": [
            "The topic is 0\n",
            "['students', 'way', 'life', 'new', 'school', 'don', 'music', 'time', 'know', 'really', 'think', 'just', 'people', 'like', 'says']\n",
            "\n",
            "\n",
            "\n",
            "\n",
            "The topic is 1\n",
            "['comey', 'republicans', 'presidential', 'administration', 'russia', 'election', 'republican', 'obama', 'white', 'donald', 'house', 'campaign', 'said', 'president', 'trump']\n",
            "\n",
            "\n",
            "\n",
            "\n",
            "The topic is 2\n",
            "['medical', 'plan', 'affordable', 'zika', 'tax', 'obamacare', 'people', 'patients', 'percent', 'coverage', 'medicaid', 'says', 'insurance', 'care', 'health']\n",
            "\n",
            "\n",
            "\n",
            "\n",
            "The topic is 3\n",
            "['russia', 'city', 'says', 'security', 'isis', 'department', 'law', 'attack', 'president', 'government', 'state', 'reports', 'court', 'said', 'police']\n",
            "\n",
            "\n",
            "\n",
            "\n",
            "The topic is 4\n",
            "['republican', 'said', 'election', 'democrats', 'percent', 'party', 'delegates', 'vote', 'state', 'democratic', 'hillary', 'campaign', 'voters', 'sanders', 'clinton']\n",
            "\n",
            "\n",
            "\n",
            "\n"
          ],
          "name": "stdout"
        }
      ]
    },
    {
      "cell_type": "code",
      "metadata": {
        "id": "ZGJBmrMEE2kD",
        "colab_type": "code",
        "colab": {
          "base_uri": "https://localhost:8080/",
          "height": 136
        },
        "outputId": "e70ae783-5f53-4094-db79-11263072bcf4"
      },
      "source": [
        "nfm_clustering = nfm_fit.transform(dtm)\n",
        "nfm_clustering"
      ],
      "execution_count": 16,
      "outputs": [
        {
          "output_type": "execute_result",
          "data": {
            "text/plain": [
              "array([[0.        , 0.12184922, 0.        , 0.05267914, 0.01464958],\n",
              "       [0.        , 0.12273515, 0.        , 0.02986155, 0.        ],\n",
              "       [0.        , 0.14119805, 0.        , 0.03553825, 0.02195947],\n",
              "       ...,\n",
              "       [0.02774447, 0.        , 0.02757206, 0.01984823, 0.00348949],\n",
              "       [0.00656824, 0.04035902, 0.        , 0.        , 0.12750412],\n",
              "       [0.02019833, 0.00533462, 0.00628332, 0.02649567, 0.01174886]])"
            ]
          },
          "metadata": {
            "tags": []
          },
          "execution_count": 16
        }
      ]
    },
    {
      "cell_type": "code",
      "metadata": {
        "id": "IAYPB2MPGvCZ",
        "colab_type": "code",
        "colab": {
          "base_uri": "https://localhost:8080/",
          "height": 34
        },
        "outputId": "cf56797d-6a35-4a7a-ef02-48d6dd24a337"
      },
      "source": [
        "nfm_clustering.shape"
      ],
      "execution_count": 22,
      "outputs": [
        {
          "output_type": "execute_result",
          "data": {
            "text/plain": [
              "(11992, 5)"
            ]
          },
          "metadata": {
            "tags": []
          },
          "execution_count": 22
        }
      ]
    },
    {
      "cell_type": "code",
      "metadata": {
        "id": "RCdIrWi_ILxK",
        "colab_type": "code",
        "colab": {
          "base_uri": "https://localhost:8080/",
          "height": 34
        },
        "outputId": "8b9f4a93-cfbc-4c8e-ab38-fc809b24f9b5"
      },
      "source": [
        "nfm_clustering[9].argmax()"
      ],
      "execution_count": 39,
      "outputs": [
        {
          "output_type": "execute_result",
          "data": {
            "text/plain": [
              "0"
            ]
          },
          "metadata": {
            "tags": []
          },
          "execution_count": 39
        }
      ]
    },
    {
      "cell_type": "code",
      "metadata": {
        "id": "tCnv0NYsGu96",
        "colab_type": "code",
        "colab": {
          "base_uri": "https://localhost:8080/",
          "height": 204
        },
        "outputId": "a66776ec-2215-44c4-e548-3e7213b2eca8"
      },
      "source": [
        "df['Article_topic'] = nfm_clustering.argmax(axis=1)\n",
        "df.head()"
      ],
      "execution_count": 40,
      "outputs": [
        {
          "output_type": "execute_result",
          "data": {
            "text/html": [
              "<div>\n",
              "<style scoped>\n",
              "    .dataframe tbody tr th:only-of-type {\n",
              "        vertical-align: middle;\n",
              "    }\n",
              "\n",
              "    .dataframe tbody tr th {\n",
              "        vertical-align: top;\n",
              "    }\n",
              "\n",
              "    .dataframe thead th {\n",
              "        text-align: right;\n",
              "    }\n",
              "</style>\n",
              "<table border=\"1\" class=\"dataframe\">\n",
              "  <thead>\n",
              "    <tr style=\"text-align: right;\">\n",
              "      <th></th>\n",
              "      <th>Article</th>\n",
              "      <th>Article_topic</th>\n",
              "    </tr>\n",
              "  </thead>\n",
              "  <tbody>\n",
              "    <tr>\n",
              "      <th>0</th>\n",
              "      <td>In the Washington of 2016, even when the polic...</td>\n",
              "      <td>1</td>\n",
              "    </tr>\n",
              "    <tr>\n",
              "      <th>1</th>\n",
              "      <td>Donald Trump has used Twitter  —   his prefe...</td>\n",
              "      <td>1</td>\n",
              "    </tr>\n",
              "    <tr>\n",
              "      <th>2</th>\n",
              "      <td>Donald Trump is unabashedly praising Russian...</td>\n",
              "      <td>1</td>\n",
              "    </tr>\n",
              "    <tr>\n",
              "      <th>3</th>\n",
              "      <td>Updated at 2:50 p. m. ET, Russian President Vl...</td>\n",
              "      <td>3</td>\n",
              "    </tr>\n",
              "    <tr>\n",
              "      <th>4</th>\n",
              "      <td>From photography, illustration and video, to d...</td>\n",
              "      <td>3</td>\n",
              "    </tr>\n",
              "  </tbody>\n",
              "</table>\n",
              "</div>"
            ],
            "text/plain": [
              "                                             Article  Article_topic\n",
              "0  In the Washington of 2016, even when the polic...              1\n",
              "1    Donald Trump has used Twitter  —   his prefe...              1\n",
              "2    Donald Trump is unabashedly praising Russian...              1\n",
              "3  Updated at 2:50 p. m. ET, Russian President Vl...              3\n",
              "4  From photography, illustration and video, to d...              3"
            ]
          },
          "metadata": {
            "tags": []
          },
          "execution_count": 40
        }
      ]
    },
    {
      "cell_type": "markdown",
      "metadata": {
        "id": "drWDOdJDIoUL",
        "colab_type": "text"
      },
      "source": [
        "#####***After going through the top 15 words each topic gave I have decided to make a dictionary of article_topic series value and corresponding topic I believe each topic is about . It might vary from person to person according to ones perspective*** "
      ]
    },
    {
      "cell_type": "code",
      "metadata": {
        "id": "tTGnmH_EIlBD",
        "colab_type": "code",
        "colab": {
          "base_uri": "https://localhost:8080/",
          "height": 102
        },
        "outputId": "f771bffe-9022-4556-91ae-9ff584b7b441"
      },
      "source": [
        "my_dict = {0:\"Education\",1:\"Election Campaign\" ,2:\"HealthCare\", 3:\"Security\",4:\"Election Votes\"}\n",
        "my_dict"
      ],
      "execution_count": 41,
      "outputs": [
        {
          "output_type": "execute_result",
          "data": {
            "text/plain": [
              "{0: 'Education',\n",
              " 1: 'Election Campaign',\n",
              " 2: 'HealthCare',\n",
              " 3: 'Security',\n",
              " 4: 'Election Votes'}"
            ]
          },
          "metadata": {
            "tags": []
          },
          "execution_count": 41
        }
      ]
    },
    {
      "cell_type": "code",
      "metadata": {
        "id": "lP0QFRX4InlV",
        "colab_type": "code",
        "colab": {
          "base_uri": "https://localhost:8080/",
          "height": 204
        },
        "outputId": "8b12139c-fe91-4087-94a4-78de843388be"
      },
      "source": [
        "df['Article_topic'] = df['Article_topic'].map(my_dict)\n",
        "df.head()"
      ],
      "execution_count": 42,
      "outputs": [
        {
          "output_type": "execute_result",
          "data": {
            "text/html": [
              "<div>\n",
              "<style scoped>\n",
              "    .dataframe tbody tr th:only-of-type {\n",
              "        vertical-align: middle;\n",
              "    }\n",
              "\n",
              "    .dataframe tbody tr th {\n",
              "        vertical-align: top;\n",
              "    }\n",
              "\n",
              "    .dataframe thead th {\n",
              "        text-align: right;\n",
              "    }\n",
              "</style>\n",
              "<table border=\"1\" class=\"dataframe\">\n",
              "  <thead>\n",
              "    <tr style=\"text-align: right;\">\n",
              "      <th></th>\n",
              "      <th>Article</th>\n",
              "      <th>Article_topic</th>\n",
              "    </tr>\n",
              "  </thead>\n",
              "  <tbody>\n",
              "    <tr>\n",
              "      <th>0</th>\n",
              "      <td>In the Washington of 2016, even when the polic...</td>\n",
              "      <td>Election Campaign</td>\n",
              "    </tr>\n",
              "    <tr>\n",
              "      <th>1</th>\n",
              "      <td>Donald Trump has used Twitter  —   his prefe...</td>\n",
              "      <td>Election Campaign</td>\n",
              "    </tr>\n",
              "    <tr>\n",
              "      <th>2</th>\n",
              "      <td>Donald Trump is unabashedly praising Russian...</td>\n",
              "      <td>Election Campaign</td>\n",
              "    </tr>\n",
              "    <tr>\n",
              "      <th>3</th>\n",
              "      <td>Updated at 2:50 p. m. ET, Russian President Vl...</td>\n",
              "      <td>Security</td>\n",
              "    </tr>\n",
              "    <tr>\n",
              "      <th>4</th>\n",
              "      <td>From photography, illustration and video, to d...</td>\n",
              "      <td>Security</td>\n",
              "    </tr>\n",
              "  </tbody>\n",
              "</table>\n",
              "</div>"
            ],
            "text/plain": [
              "                                             Article      Article_topic\n",
              "0  In the Washington of 2016, even when the polic...  Election Campaign\n",
              "1    Donald Trump has used Twitter  —   his prefe...  Election Campaign\n",
              "2    Donald Trump is unabashedly praising Russian...  Election Campaign\n",
              "3  Updated at 2:50 p. m. ET, Russian President Vl...           Security\n",
              "4  From photography, illustration and video, to d...           Security"
            ]
          },
          "metadata": {
            "tags": []
          },
          "execution_count": 42
        }
      ]
    },
    {
      "cell_type": "code",
      "metadata": {
        "id": "g1MA-ZbRKJZ4",
        "colab_type": "code",
        "colab": {}
      },
      "source": [
        ""
      ],
      "execution_count": 0,
      "outputs": []
    }
  ]
}